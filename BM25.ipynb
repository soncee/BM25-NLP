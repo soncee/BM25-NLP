{
  "nbformat": 4,
  "nbformat_minor": 0,
  "metadata": {
    "colab": {
      "provenance": [],
      "collapsed_sections": []
    },
    "kernelspec": {
      "name": "python3",
      "display_name": "Python 3"
    },
    "language_info": {
      "name": "python"
    }
  },
  "cells": [
    {
      "cell_type": "code",
      "source": [
        "import numpy as np\n",
        "from math import log"
      ],
      "metadata": {
        "id": "VLq8dyOgFX0d"
      },
      "execution_count": null,
      "outputs": []
    },
    {
      "cell_type": "code",
      "source": [
        "D1 = 'I,enjoy,watching,movie,cold,outside'\n",
        "D2 = 'Toy,story,best,animation,movie,ever'\n",
        "D3 = 'watching,horror,movie,alone,night,really,scary'\n",
        "D4 = 'He,love,film,filled,suspense,unexpected,plot,twists'\n",
        "D5 = 'one,most,overrated,movie,I,ever,seen'"
      ],
      "metadata": {
        "id": "UqLF0B-vFZwv"
      },
      "execution_count": null,
      "outputs": []
    },
    {
      "cell_type": "code",
      "source": [
        "isiD1 = []\n",
        "isiD2 = []\n",
        "isiD3 = []\n",
        "isiD4 = []\n",
        "isiD5 = []\n",
        "\n",
        "\n",
        "isiD1 = D1.split(',')\n",
        "isiD2 = D2.split(',')\n",
        "isiD3 = D3.split(',')\n",
        "isiD4 = D4.split(',')\n",
        "isiD5 = D5.split(',')"
      ],
      "metadata": {
        "id": "hp8mEkGYH_Jy"
      },
      "execution_count": null,
      "outputs": []
    },
    {
      "cell_type": "code",
      "source": [
        "information = ['I','enjoy','watching','movie','cold','outside','Toy','story','best','animation','ever','horror','alone','night','really','scary','He','love','film','filled','suspense','unexpected','plot','twists','one','most','overrated','seen']\n",
        "\n",
        "TFD1 = [0,0,0,0,0,0,0,0,0,0,0,0,0,0,0,0,0,0,0,0,0,0,0,0,0,0,0,0]\n",
        "TFD2 = [0,0,0,0,0,0,0,0,0,0,0,0,0,0,0,0,0,0,0,0,0,0,0,0,0,0,0,0]\n",
        "TFD3 = [0,0,0,0,0,0,0,0,0,0,0,0,0,0,0,0,0,0,0,0,0,0,0,0,0,0,0,0]\n",
        "TFD4 = [0,0,0,0,0,0,0,0,0,0,0,0,0,0,0,0,0,0,0,0,0,0,0,0,0,0,0,0]\n",
        "TFD5 = [0,0,0,0,0,0,0,0,0,0,0,0,0,0,0,0,0,0,0,0,0,0,0,0,0,0,0,0]\n",
        "\n",
        "for i in range(len(isiD1)):\n",
        "  for j in range(len(information)):\n",
        "    if(isiD1[i] == information[j]):\n",
        "        TFD1[j] = TFD1[j] + 1\n",
        "        break\n",
        "\n",
        "for i in range(len(isiD2)):\n",
        "  for j in range(len(information)):\n",
        "    if(isiD2[i] == information[j]):\n",
        "      TFD2[j] = TFD2[j] + 1\n",
        "      break\n",
        "\n",
        "for i in range(len(isiD3)):\n",
        "  for j in range(len(information)):\n",
        "    if(isiD3[i] == information[j]):\n",
        "      TFD3[j] = TFD3[j] + 1\n",
        "      break\n",
        "\n",
        "for i in range(len(isiD4)):\n",
        "  for j in range(len(information)):\n",
        "    if(isiD4[i] == information[j]):\n",
        "      TFD4[j] = TFD4[j] + 1\n",
        "      break\n",
        "\n",
        "for i in range(len(isiD5)):\n",
        "  for j in range(len(information)):\n",
        "    if(isiD5[i] == information[j]):\n",
        "      TFD5[j] = TFD5[j] + 1\n",
        "      break"
      ],
      "metadata": {
        "id": "0ut9cMAqHqsi"
      },
      "execution_count": null,
      "outputs": []
    },
    {
      "cell_type": "code",
      "source": [
        "len(information)"
      ],
      "metadata": {
        "colab": {
          "base_uri": "https://localhost:8080/"
        },
        "id": "wb28Wp9wqmm4",
        "outputId": "7e9ec408-e305-4288-e09c-3bf06e91177e"
      },
      "execution_count": null,
      "outputs": [
        {
          "output_type": "execute_result",
          "data": {
            "text/plain": [
              "28"
            ]
          },
          "metadata": {},
          "execution_count": 5
        }
      ]
    },
    {
      "cell_type": "code",
      "source": [
        "DFI= 0\n",
        "DFenjoy = 0\n",
        "DFwatching = 0\n",
        "DFmovie = 0\n",
        "DFcold = 0\n",
        "DFoutside = 0\n",
        "DFToy = 0\n",
        "DFstory = 0\n",
        "DFbest = 0\n",
        "DFanimation = 0\n",
        "DFever = 0\n",
        "DFhorror = 0\n",
        "DFalone = 0\n",
        "DFnight = 0\n",
        "DFreally = 0\n",
        "DFscary = 0\n",
        "DFHe = 0\n",
        "DFlove = 0\n",
        "DFfilm = 0\n",
        "DFfilled = 0\n",
        "DFSuspense = 0\n",
        "DFunexpected = 0\n",
        "DFPlot = 0\n",
        "DFtwists = 0\n",
        "DFOne = 0\n",
        "DFmost = 0\n",
        "DFoverrated = 0\n",
        "DFseen = 0\n"
      ],
      "metadata": {
        "id": "RG7oS_4cIHUM"
      },
      "execution_count": null,
      "outputs": []
    },
    {
      "cell_type": "code",
      "source": [
        "if(TFD1[0] >= 1):\n",
        "  DFI = DFI + 1\n",
        "if(TFD2[0] >= 1):\n",
        "  DFI = DFI + 1\n",
        "if(TFD3[0] >= 1):\n",
        "  DFI = DFI + 1\n",
        "if(TFD4[0] >= 1):\n",
        "  DFI = DFI + 1\n",
        "if(TFD5[0] >= 1):\n",
        "  DFI = DFI + 1"
      ],
      "metadata": {
        "id": "_OOaJ6YtWlu9"
      },
      "execution_count": null,
      "outputs": []
    },
    {
      "cell_type": "code",
      "source": [
        "if(TFD1[1] >= 1):\n",
        "  DFenjoy = DFenjoy + 1\n",
        "if(TFD2[1] >= 1):\n",
        "  DFenjoy = DFenjoy + 1\n",
        "if(TFD3[1] >= 1):\n",
        "  DFenjoy = DFenjoy + 1\n",
        "if(TFD4[1] >= 1):\n",
        "  DFenjoy = DFenjoy + 1\n",
        "if(TFD5[1] >= 1):\n",
        "  DFenjoy = DFenjoy + 1"
      ],
      "metadata": {
        "id": "JNrHeN-xWlfj"
      },
      "execution_count": null,
      "outputs": []
    },
    {
      "cell_type": "code",
      "source": [
        "if(TFD1[2] >= 1):\n",
        "  DFwatching = DFwatching + 1\n",
        "if(TFD2[2] >= 1):\n",
        "  DFwatching = DFwatching + 1\n",
        "if(TFD3[2] >= 1):\n",
        "  DFwatching = DFwatching + 1\n",
        "if(TFD4[2] >= 1):\n",
        "  DFwatching = DFwatching + 1\n",
        "if(TFD5[2] >= 1):\n",
        "  DFwatching = DFwatching + 1"
      ],
      "metadata": {
        "id": "qWEB7UuqIVX4"
      },
      "execution_count": null,
      "outputs": []
    },
    {
      "cell_type": "code",
      "source": [
        "if(TFD1[3] >= 1):\n",
        "  DFmovie = DFmovie + 1\n",
        "if(TFD2[3] >= 1):\n",
        "  DFmovie = DFmovie + 1\n",
        "if(TFD3[3] >= 1):\n",
        "  DFmovie = DFmovie + 1\n",
        "if(TFD4[3] >= 1):\n",
        "  DFmovie = DFmovie + 1\n",
        "if(TFD5[3] >= 1):\n",
        "  DFmovie = DFmovie + 1"
      ],
      "metadata": {
        "id": "4fu5GCrNW7ae"
      },
      "execution_count": null,
      "outputs": []
    },
    {
      "cell_type": "code",
      "source": [
        "if(TFD1[4] >= 1):\n",
        "  DFcold = DFcold + 1\n",
        "if(TFD2[4] >= 1):\n",
        "  DFcold = DFcold + 1\n",
        "if(TFD3[4] >= 1):\n",
        "  DFcold = DFcold + 1\n",
        "if(TFD4[4] >= 1):\n",
        "  DFcold = DFcold + 1\n",
        "if(TFD5[4] >= 1):\n",
        "  DFcold = DFcold + 1"
      ],
      "metadata": {
        "id": "abQtAr_iW-Vb"
      },
      "execution_count": null,
      "outputs": []
    },
    {
      "cell_type": "code",
      "source": [
        "if(TFD1[5] >= 1):\n",
        "  DFoutside = DFoutside + 1\n",
        "if(TFD2[5] >= 1):\n",
        "  DFoutside = DFoutside + 1\n",
        "if(TFD3[5] >= 1):\n",
        "  DFoutside = DFoutside + 1\n",
        "if(TFD4[5] >= 1):\n",
        "  DFoutside = DFoutside + 1\n",
        "if(TFD5[5] >= 1):\n",
        "  DFoutside = DFoutside + 1"
      ],
      "metadata": {
        "id": "5K5pWFCjW9bx"
      },
      "execution_count": null,
      "outputs": []
    },
    {
      "cell_type": "code",
      "source": [
        "if(TFD1[6] >= 1):\n",
        "  DFToy = DFToy + 1\n",
        "if(TFD2[6] >= 1):\n",
        "  DFToy = DFToy + 1\n",
        "if(TFD3[6] >= 1):\n",
        "  DFToy = DFToy + 1\n",
        "if(TFD4[6] >= 1):\n",
        "  DFToy = DFToy + 1\n",
        "if(TFD5[6] >= 1):\n",
        "  DFToy = DFToy + 1"
      ],
      "metadata": {
        "id": "WsdkuezAXBDA"
      },
      "execution_count": null,
      "outputs": []
    },
    {
      "cell_type": "code",
      "source": [
        "if(TFD1[7] >= 1):\n",
        "  DFstory = DFstory + 1\n",
        "if(TFD2[7] >= 1):\n",
        "  DFstory = DFstory + 1\n",
        "if(TFD3[7] >= 1):\n",
        "  DFstory = DFstory + 1\n",
        "if(TFD4[7] >= 1):\n",
        "  DFstory = DFstory + 1\n",
        "if(TFD5[7] >= 1):\n",
        "  DFstory = DFstory + 1"
      ],
      "metadata": {
        "id": "Y3EfWBxxXBiQ"
      },
      "execution_count": null,
      "outputs": []
    },
    {
      "cell_type": "code",
      "source": [
        "if(TFD1[8] >= 1):\n",
        "  DFbest = DFbest + 1\n",
        "if(TFD2[8] >= 1):\n",
        "  DFbest = DFbest + 1\n",
        "if(TFD3[8] >= 1):\n",
        "  DFbest = DFbest + 1\n",
        "if(TFD4[8] >= 1):\n",
        "  DFbest = DFbest + 1\n",
        "if(TFD5[8] >= 1):\n",
        "  DFbest = DFbest + 1"
      ],
      "metadata": {
        "id": "9dUeQQQqT2FJ"
      },
      "execution_count": null,
      "outputs": []
    },
    {
      "cell_type": "code",
      "source": [
        "if(TFD1[9] >= 1):\n",
        "  DFanimation = DFanimation + 1\n",
        "if(TFD2[9] >= 1):\n",
        "  DFanimation = DFanimation + 1\n",
        "if(TFD3[9] >= 1):\n",
        "  DFanimation = DFanimation + 1\n",
        "if(TFD4[9] >= 1):\n",
        "  DFanimation = DFanimation + 1\n",
        "if(TFD5[9] >= 1):\n",
        "  DFanimation = DFanimation + 1"
      ],
      "metadata": {
        "id": "ikWu96iMT6Ut"
      },
      "execution_count": null,
      "outputs": []
    },
    {
      "cell_type": "code",
      "source": [
        "if(TFD1[10] >= 1):\n",
        "  DFever = DFever + 1\n",
        "if(TFD2[10] >= 1):\n",
        "  DFever = DFever + 1\n",
        "if(TFD3[10] >= 1):\n",
        "  DFever = DFever + 1\n",
        "if(TFD4[10] >= 1):\n",
        "  DFever = DFever + 1\n",
        "if(TFD5[10] >= 1):\n",
        "  DFever = DFever + 1"
      ],
      "metadata": {
        "id": "wfLK0c-dXRP5"
      },
      "execution_count": null,
      "outputs": []
    },
    {
      "cell_type": "code",
      "source": [
        "if(TFD1[11] >= 1):\n",
        "  DFhorror = DFhorror + 1\n",
        "if(TFD2[11] >= 1):\n",
        "  DFI = DFI + 1\n",
        "if(TFD3[11] >= 1):\n",
        "  DFhorror = DFhorror + 1\n",
        "if(TFD4[11] >= 1):\n",
        "  DFhorror = DFhorror + 1\n",
        "if(TFD5[11] >= 1):\n",
        "  DFhorror = DFhorror + 1"
      ],
      "metadata": {
        "id": "YB1BqKL7XRIn"
      },
      "execution_count": null,
      "outputs": []
    },
    {
      "cell_type": "code",
      "source": [
        "if(TFD1[12] >= 1):\n",
        "  DFalone = DFalone + 1\n",
        "if(TFD2[12] >= 1):\n",
        "  DFalone = DFalone + 1\n",
        "if(TFD3[12] >= 1):\n",
        "  DFalone = DFalone + 1\n",
        "if(TFD4[12] >= 1):\n",
        "  DFalone = DFalone + 1\n",
        "if(TFD5[12] >= 1):\n",
        "  DFalone = DFalone + 1"
      ],
      "metadata": {
        "id": "Z3Z_pB9UXRAh"
      },
      "execution_count": null,
      "outputs": []
    },
    {
      "cell_type": "code",
      "source": [
        "if(TFD1[13] >= 1):\n",
        "  DFnight  = DFnight + 1\n",
        "if(TFD2[13] >= 1):\n",
        "  DFnight = DFnight + 1\n",
        "if(TFD3[13] >= 1):\n",
        "  DFnight = DFnight + 1\n",
        "if(TFD4[13] >= 1):\n",
        "  DFnight = DFnight + 1\n",
        "if(TFD5[13] >= 1):\n",
        "  DFnight = DFnight + 1"
      ],
      "metadata": {
        "id": "D4G_hiuRXQ4u"
      },
      "execution_count": null,
      "outputs": []
    },
    {
      "cell_type": "code",
      "source": [
        "if(TFD1[14] >= 1):\n",
        "  DFreally  = DFreally + 1\n",
        "if(TFD2[14] >= 1):\n",
        "  DFreally = DFreally + 1\n",
        "if(TFD3[14] >= 1):\n",
        "  DFreally = DFreally + 1\n",
        "if(TFD4[14] >= 1):\n",
        "  DFreally = DFreally + 1\n",
        "if(TFD5[14] >= 1):\n",
        "  DFreally = DFreally + 1"
      ],
      "metadata": {
        "id": "t0YTFbw8XQwx"
      },
      "execution_count": null,
      "outputs": []
    },
    {
      "cell_type": "code",
      "source": [
        "if(TFD1[15] >= 1):\n",
        "  DFscary  = DFscary + 1\n",
        "if(TFD2[15] >= 1):\n",
        "  DFscary = DFscary + 1\n",
        "if(TFD3[15] >= 1):\n",
        "  DFscary = DFscary + 1\n",
        "if(TFD4[15] >= 1):\n",
        "  DFscary = DFscary + 1\n",
        "if(TFD5[0] >= 1):\n",
        "  DFscary = DFscary + 1"
      ],
      "metadata": {
        "id": "_4irLik1XQad"
      },
      "execution_count": null,
      "outputs": []
    },
    {
      "cell_type": "code",
      "source": [
        "if(TFD1[16] >= 1):\n",
        "  DFHe  = DFHe + 1\n",
        "if(TFD2[16] >= 1):\n",
        "  DFHe = DFHe + 1\n",
        "if(TFD3[16] >= 1):\n",
        "  DFHe = DFHe + 1\n",
        "if(TFD4[16] >= 1):\n",
        "  DFHe = DFHe + 1\n",
        "if(TFD5[16] >= 1):\n",
        "  DFHe = DFHe + 1"
      ],
      "metadata": {
        "id": "c3ncj0CEXQRi"
      },
      "execution_count": null,
      "outputs": []
    },
    {
      "cell_type": "code",
      "source": [
        "if(TFD1[17] >= 1):\n",
        "  DFlove = DFlove + 1\n",
        "if(TFD2[17] >= 1):\n",
        "  DFlove = DFlove + 1\n",
        "if(TFD3[17] >= 1):\n",
        "  DFlove = DFlove + 1\n",
        "if(TFD4[17] >= 1):\n",
        "  DFlove = DFlove + 1\n",
        "if(TFD5[17] >= 1):\n",
        "  DFlove = DFlove + 1"
      ],
      "metadata": {
        "id": "F-a_dUhtXP_4"
      },
      "execution_count": null,
      "outputs": []
    },
    {
      "cell_type": "code",
      "source": [
        "if(TFD1[18] >= 1):\n",
        "  DFfilm  = DFfilm + 1\n",
        "if(TFD2[18] >= 1):\n",
        "  DFfilm = DFfilm + 1\n",
        "if(TFD3[18] >= 1):\n",
        "  DFfilm = DFfilm + 1\n",
        "if(TFD4[18] >= 1):\n",
        "  DFfilm = DFfilm + 1\n",
        "if(TFD5[18] >= 1):\n",
        "  DFfilm = DFfilm + 1"
      ],
      "metadata": {
        "id": "ZsO7gQSUXP3N"
      },
      "execution_count": null,
      "outputs": []
    },
    {
      "cell_type": "code",
      "source": [
        "if(TFD1[19] >= 1):\n",
        "  DFfilled  = DFfilled + 1\n",
        "if(TFD2[19] >= 1):\n",
        "  DFfilled = DFfilled + 1\n",
        "if(TFD3[19] >= 1):\n",
        "  DFfilled = DFfilled + 1\n",
        "if(TFD4[19] >= 1):\n",
        "  DFfilled = DFfilled + 1\n",
        "if(TFD5[19] >= 1):\n",
        "  DFfilled = DFfilled + 1"
      ],
      "metadata": {
        "id": "ylyq9fOfXPo2"
      },
      "execution_count": null,
      "outputs": []
    },
    {
      "cell_type": "code",
      "source": [
        "if(TFD1[20] >= 1):\n",
        "  DFSuspense  = DFSuspense + 1\n",
        "if(TFD2[20] >= 1):\n",
        "  DFSuspense = DFSuspense + 1\n",
        "if(TFD3[20] >= 1):\n",
        "  DFSuspense = DFSuspense + 1\n",
        "if(TFD4[20] >= 1):\n",
        "  DFSuspense = DFSuspense + 1\n",
        "if(TFD5[20] >= 1):\n",
        "  DFSuspense = DFSuspense + 1"
      ],
      "metadata": {
        "id": "wmzPcHh5XPhy"
      },
      "execution_count": null,
      "outputs": []
    },
    {
      "cell_type": "code",
      "source": [
        "if(TFD1[21] >= 1):\n",
        "  DFunexpected  = DFunexpected + 1\n",
        "if(TFD2[21] >= 1):\n",
        "  DFunexpected = DFunexpected + 1\n",
        "if(TFD3[21] >= 1):\n",
        "  DFunexpected = DFunexpected + 1\n",
        "if(TFD4[21] >= 1):\n",
        "  DFunexpected = DFunexpected + 1\n",
        "if(TFD5[21] >= 1):\n",
        "  DFunexpected = DFunexpected + 1"
      ],
      "metadata": {
        "id": "X4DBpe0AXPbW"
      },
      "execution_count": null,
      "outputs": []
    },
    {
      "cell_type": "code",
      "source": [
        "if(TFD1[22] >= 1):\n",
        "  DFPlot  = DFPlot + 1\n",
        "if(TFD2[22] >= 1):\n",
        "  DFPlot = DFPlot + 1\n",
        "if(TFD3[22] >= 1):\n",
        "  DFPlot = DFPlot + 1\n",
        "if(TFD4[22] >= 1):\n",
        "  DFPlot = DFPlot + 1\n",
        "if(TFD5[22] >= 1):\n",
        "  DFPlot = DFPlot + 1"
      ],
      "metadata": {
        "id": "1-SELbJoXPUo"
      },
      "execution_count": null,
      "outputs": []
    },
    {
      "cell_type": "code",
      "source": [
        "if(TFD1[23] >= 1):\n",
        "  DFtwists  = DFtwists + 1\n",
        "if(TFD2[23] >= 1):\n",
        "  DFtwists = DFtwists + 1\n",
        "if(TFD3[23] >= 1):\n",
        "  DFtwists = DFtwists + 1\n",
        "if(TFD4[23] >= 1):\n",
        "  DFtwists = DFtwists + 1\n",
        "if(TFD5[23] >= 1):\n",
        "  DFtwists = DFtwists + 1"
      ],
      "metadata": {
        "id": "zrfqAFRbXPN8"
      },
      "execution_count": null,
      "outputs": []
    },
    {
      "cell_type": "code",
      "source": [
        "if(TFD1[24] >= 1):\n",
        "  DFOne  = DFOne + 1\n",
        "if(TFD2[24] >= 1):\n",
        "  DFOne = DFOne + 1\n",
        "if(TFD3[24] >= 1):\n",
        "  DFOne = DFOne + 1\n",
        "if(TFD4[24] >= 1):\n",
        "  DFOne = DFOne + 1\n",
        "if(TFD5[24] >= 1):\n",
        "  DFOne = DFOne + 1"
      ],
      "metadata": {
        "id": "m07OZ3xXXPGH"
      },
      "execution_count": null,
      "outputs": []
    },
    {
      "cell_type": "code",
      "source": [
        "if(TFD1[25] >= 1):\n",
        "  DFmost  = DFmost + 1\n",
        "if(TFD2[25] >= 1):\n",
        "  DFmost = DFmost + 1\n",
        "if(TFD3[25] >= 1):\n",
        "  DFmost = DFmost + 1\n",
        "if(TFD4[25] >= 1):\n",
        "  DFmost = DFmost + 1\n",
        "if(TFD5[25] >= 1):\n",
        "  DFmost = DFmost + 1"
      ],
      "metadata": {
        "id": "NQgMiqUSXO-l"
      },
      "execution_count": null,
      "outputs": []
    },
    {
      "cell_type": "code",
      "source": [
        "if(TFD1[26] >= 1):\n",
        "  DFoverrated  = DFoverrated + 1\n",
        "if(TFD2[26] >= 1):\n",
        "  DFoverrated = DFoverrated + 1\n",
        "if(TFD3[26] >= 1):\n",
        "  DFoverrated = DFoverrated + 1\n",
        "if(TFD4[26] >= 1):\n",
        "  DFoverrated = DFoverrated + 1\n",
        "if(TFD5[26] >= 1):\n",
        "  DFoverrated = DFoverrated + 1"
      ],
      "metadata": {
        "id": "ry-wNJ5VXOzP"
      },
      "execution_count": null,
      "outputs": []
    },
    {
      "cell_type": "code",
      "source": [
        "if(TFD1[27] >= 1):\n",
        "  DFseen  = DFseen + 1\n",
        "if(TFD2[27] >= 1):\n",
        "  DFseen = DFseen + 1\n",
        "if(TFD3[27] >= 1):\n",
        "  DFseen = DFseen + 1\n",
        "if(TFD4[27] >= 1):\n",
        "  DFseen = DFseen + 1\n",
        "if(TFD5[27] >= 1):\n",
        "  DFseen = DFseen + 1"
      ],
      "metadata": {
        "id": "pcBqNjgxXOik"
      },
      "execution_count": null,
      "outputs": []
    },
    {
      "cell_type": "code",
      "source": [
        "import math\n",
        "IDFFinal = [0,0,0,0,0,0,0,0,0,0,0,0,0,0,0,0,0,0,0,0,0,0,0,0,0,0,0,0]\n",
        "\n",
        "n=5\n",
        "idfi = math.log((1+n-(DFI) + 0.5) / ((DFI) + 0.5))\n",
        "IDFFinal[0] = idfi\n",
        "idfenjoy = math.log((1+n-(DFenjoy ) + 0.5) / ((DFenjoy ) + 0.5))\n",
        "IDFFinal[1] = idfenjoy\n",
        "idfwatching= math.log((1+n-(DFwatching) + 0.5) / ((DFwatching) + 0.5))\n",
        "IDFFinal[2] = idfwatching\n",
        "idfmovie = math.log(1+(n-(DFmovie ) + 0.5) / ((DFmovie) + 0.5))\n",
        "IDFFinal[3] = idfmovie\n",
        "idfcold =math.log(1+(n-(DFcold ) + 0.5) / ((DFcold  ) + 0.5))\n",
        "IDFFinal[4] = idfcold\n",
        "idfoutside = math.log(1+(n-(DFoutside ) + 0.5) / ((DFoutside ) + 0.5))\n",
        "IDFFinal[5] = idfoutside\n",
        "idfToy = math.log(1+(n-(DFToy ) + 0.5) / ((DFToy ) + 0.5))\n",
        "IDFFinal[6] = idfToy\n",
        "idfstory =math.log(1+(n-(DFstory ) + 0.5) / ((DFstory ) + 0.5))\n",
        "IDFFinal[7] = idfstory\n",
        "idfbest  = math.log(1+(n-(DFbest ) + 0.5) / ((DFbest ) + 0.5))\n",
        "IDFFinal[8] = idfbest\n",
        "idfanimation= math.log(1+(n-(DFanimation ) + 0.5) / ((DFanimation ) + 0.5))\n",
        "IDFFinal[9] = idfanimation\n",
        "idfever = math.log(1+(n-(DFever ) + 0.5) / ((DFever ) + 0.5))\n",
        "IDFFinal[10] = idfever\n",
        "idfhorror = math.log(1+(n-(DFhorror ) + 0.5) / ((DFhorror ) + 0.5))\n",
        "IDFFinal[11] = idfhorror\n",
        "idfalone = math.log(1+(n-(DFalone ) + 0.5) / ((DFalone ) + 0.5))\n",
        "IDFFinal[12] = idfalone\n",
        "idfnight = math.log(1+(n-(DFnight ) + 0.5) / ((DFnight ) + 0.5))\n",
        "IDFFinal[13] = idfnight\n",
        "idfreally= math.log(1+(n-(DFreally ) + 0.5) / ((DFreally ) + 0.5))\n",
        "IDFFinal[14] = idfreally\n",
        "idfscary = math.log(1+(n-(DFscary ) + 0.5) / ((DFscary ) + 0.5))\n",
        "IDFFinal[15] = idfscary\n",
        "idfHe = math.log(1+(n-(DFHe ) + 0.5) / ((DFHe ) + 0.5))\n",
        "IDFFinal[16] = idfHe\n",
        "idflove = math.log(1+(n-(DFlove ) + 0.5) / ((DFlove ) + 0.5))\n",
        "IDFFinal[17] = idflove\n",
        "idffilm = math.log(1+(n-(DFfilm ) + 0.5) / ((DFfilm ) + 0.5))\n",
        "IDFFinal[18] = idffilm\n",
        "idffilled= math.log(1+(n-(DFfilled  ) + 0.5) / ((DFfilled ) + 0.5))\n",
        "IDFFinal[19] = idffilled\n",
        "idfSuspense = math.log(1+(n-(DFSuspense ) + 0.5) / ((DFSuspense ) + 0.5))\n",
        "IDFFinal[20] = idfSuspense\n",
        "idfunexpected = math.log(1+(n-(DFunexpected ) + 0.5) / ((DFunexpected ) + 0.5))\n",
        "IDFFinal[21] = idfunexpected\n",
        "idfPlot = math.log(1+(n-(DFPlot  ) + 0.5) / ((DFPlot  ) + 0.5))\n",
        "IDFFinal[22] = idfPlot\n",
        "idftwists = math.log(1+(n-(DFtwists ) + 0.5) / ((DFtwists ) + 0.5))\n",
        "IDFFinal[23] = idftwists\n",
        "idfOne= math.log(1+(n-(DFOne ) + 0.5) / ((DFOne ) + 0.5))\n",
        "IDFFinal[24] = idfOne\n",
        "idfFmost = math.log(1+(n-(DFmost ) + 0.5) / ((DFmost ) + 0.5))\n",
        "IDFFinal[25] = idfFmost\n",
        "idfoverrated  = math.log(1+(n-(DFoverrated ) + 0.5) / ((DFoverrated ) + 0.5))\n",
        "IDFFinal[26] = idfoverrated\n",
        "idfseen = math.log(1+(n-(DFseen ) + 0.5) / ((DFseen ) + 0.5))\n",
        "IDFFinal[26] = idfseen"
      ],
      "metadata": {
        "id": "D6sLlHFGUaT7"
      },
      "execution_count": null,
      "outputs": []
    },
    {
      "cell_type": "code",
      "source": [
        "math.log(1+(n-(DFmovie ) + 0.5) / ((DFmovie) + 0.5))\n"
      ],
      "metadata": {
        "colab": {
          "base_uri": "https://localhost:8080/"
        },
        "id": "sSL-Z2kYswzA",
        "outputId": "9d63edeb-db32-4146-fb06-cdeedbf13608"
      },
      "execution_count": null,
      "outputs": [
        {
          "output_type": "execute_result",
          "data": {
            "text/plain": [
              "0.28768207245178085"
            ]
          },
          "metadata": {},
          "execution_count": 37
        }
      ]
    },
    {
      "cell_type": "code",
      "source": [
        "print(DFwatching)\n",
        "print(DFbest)\n",
        "print(DFanimation)\n",
        "print(DFmovie)"
      ],
      "metadata": {
        "colab": {
          "base_uri": "https://localhost:8080/"
        },
        "id": "Pkcoy3o0VuTP",
        "outputId": "838ebb07-f0db-4c05-f731-19037afcf61d"
      },
      "execution_count": null,
      "outputs": [
        {
          "output_type": "stream",
          "name": "stdout",
          "text": [
            "2\n",
            "1\n",
            "1\n",
            "4\n"
          ]
        }
      ]
    },
    {
      "cell_type": "code",
      "source": [
        "\n",
        "print(idfwatching)\n",
        "print(idfbest)\n",
        "print(idfanimation)\n",
        "print(idfmovie)"
      ],
      "metadata": {
        "colab": {
          "base_uri": "https://localhost:8080/"
        },
        "id": "NgysKmiqUy23",
        "outputId": "38209bb0-9779-485a-a66d-f249a19b32e5"
      },
      "execution_count": null,
      "outputs": [
        {
          "output_type": "stream",
          "name": "stdout",
          "text": [
            "0.5877866649021191\n",
            "1.3862943611198906\n",
            "1.3862943611198906\n",
            "0.28768207245178085\n"
          ]
        }
      ]
    },
    {
      "cell_type": "code",
      "source": [
        "print(idfwatching)\n",
        "print(TFD1.count(1))\n",
        "print(TFD2.count(1))\n",
        "print(TFD3.count(1))\n",
        "print(TFD4.count(1))\n"
      ],
      "metadata": {
        "colab": {
          "base_uri": "https://localhost:8080/"
        },
        "id": "Czd4B29B8HXw",
        "outputId": "ed954fe5-fdb0-4712-fa67-0d539360deef"
      },
      "execution_count": null,
      "outputs": [
        {
          "output_type": "stream",
          "name": "stdout",
          "text": [
            "0.5877866649021191\n",
            "6\n",
            "6\n",
            "7\n",
            "8\n"
          ]
        }
      ]
    },
    {
      "cell_type": "code",
      "source": [
        "\n",
        "b = 0.75\n",
        "k = 1.5\n",
        "BM25_Q1= (idfwatching) * (TFD1.count(1))*(k+1)/(TFD1.count(1)+k*(1-b+b*(6/7)))\n",
        "BM25_Q2= (idfbest) * (TFD2.count(1))*(k+1)/(TFD2.count(1)+k*(1-b+b*(6/7)))\n",
        "BM25_Q3= (idfanimation) * (TFD3.count(1))*(k+1)/(TFD3.count(1)+k*(1-b+b*(7/7)))\n",
        "BM25_Q4= (idfmovie) * (TFD4.count(1))*(k+1)/(TFD4.count(1)+k*(1-b+b*(8/7)))\n",
        "print(\"Q1= \",BM25_Q1)\n",
        "print(\"Q2= \",BM25_Q2)\n",
        "print(\"Q3= \",BM25_Q2)\n",
        "print(\"Q5= \",BM25_Q2)\n",
        "\n",
        "print(BM25_Q1+BM25_Q2+BM25_Q3+BM25_Q4)"
      ],
      "metadata": {
        "colab": {
          "base_uri": "https://localhost:8080/"
        },
        "id": "KrpYJmo75vZa",
        "outputId": "b9c073e1-01b6-47e8-fd26-9f699af48a81"
      },
      "execution_count": null,
      "outputs": [
        {
          "output_type": "stream",
          "name": "stdout",
          "text": [
            "Q1=  1.2013158114787834\n",
            "Q2=  2.8333023438946667\n",
            "Q3=  2.8333023438946667\n",
            "Q5=  2.8333023438946667\n",
            "7.484324623492079\n"
          ]
        }
      ]
    }
  ]
}